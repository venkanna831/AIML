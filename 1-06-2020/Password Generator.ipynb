{
 "cells": [
  {
   "cell_type": "code",
   "execution_count": 1,
   "metadata": {},
   "outputs": [
    {
     "name": "stdout",
     "output_type": "stream",
     "text": [
      "blowmovie*6\n",
      "Need another password yes/no:yes\n",
      "breedlion@9\n",
      "Need another password yes/no:yes\n",
      "singman@2\n",
      "Need another password yes/no:yes\n",
      "breedhappiness!10\n",
      "Need another password yes/no:no\n",
      "Your password is :breedhappiness!10\n"
     ]
    }
   ],
   "source": [
    "import random\n",
    "k=\"yes\"\n",
    "while(k==\"yes\"):\n",
    "    verb=[\"blow\",\"break\",\"breed\",\"push\",\"cost\",\"must\",\"pay\",\"eat\",\"sing\",\"tell\"]\n",
    "    noun=[\"man\",\"mountain\",\"wealth\",\"happiness\",\"snake\",\"lion\",\"movie\",\"train\",\"car\",\"rice\"]\n",
    "    schar=[\"!\",\"@\",\"#\",\"$\",\"%\",\"^\",\"&\",\"*\"]\n",
    "    num=[1,2,3,4,5,6,7,8,9,10]\n",
    "    r1=random.choice(verb)\n",
    "    r2=random.choice(noun)\n",
    "    r3=random.choice(schar)\n",
    "    r4=random.choice(num)\n",
    "    print(r1,end=\"\")\n",
    "    print(r2,end=\"\")\n",
    "    print(r3,end=\"\")\n",
    "    print(r4)\n",
    "    k=input(\"Need another password yes/no:\")\n",
    "    if k==\"no\":\n",
    "        print(\"Your password is :\",end=\"\")\n",
    "        print(r1,end=\"\")\n",
    "        print(r2,end=\"\")\n",
    "        print(r3,end=\"\")\n",
    "        print(r4)"
   ]
  },
  {
   "cell_type": "code",
   "execution_count": null,
   "metadata": {},
   "outputs": [],
   "source": []
  }
 ],
 "metadata": {
  "kernelspec": {
   "display_name": "Python 3",
   "language": "python",
   "name": "python3"
  },
  "language_info": {
   "codemirror_mode": {
    "name": "ipython",
    "version": 3
   },
   "file_extension": ".py",
   "mimetype": "text/x-python",
   "name": "python",
   "nbconvert_exporter": "python",
   "pygments_lexer": "ipython3",
   "version": "3.7.4"
  }
 },
 "nbformat": 4,
 "nbformat_minor": 2
}
