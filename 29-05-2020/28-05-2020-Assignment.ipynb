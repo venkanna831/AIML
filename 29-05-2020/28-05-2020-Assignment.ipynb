{
 "cells": [
  {
   "cell_type": "code",
   "execution_count": 9,
   "metadata": {},
   "outputs": [
    {
     "name": "stdout",
     "output_type": "stream",
     "text": [
      "enter a number121\n"
     ]
    },
    {
     "ename": "TypeError",
     "evalue": "'str' object is not callable",
     "output_type": "error",
     "traceback": [
      "\u001b[1;31m---------------------------------------------------------------------------\u001b[0m",
      "\u001b[1;31mTypeError\u001b[0m                                 Traceback (most recent call last)",
      "\u001b[1;32m<ipython-input-9-9c5d06ff1d5e>\u001b[0m in \u001b[0;36m<module>\u001b[1;34m\u001b[0m\n\u001b[0;32m     10\u001b[0m \u001b[0mrev\u001b[0m\u001b[1;33m=\u001b[0m\u001b[1;36m0\u001b[0m\u001b[1;33m\u001b[0m\u001b[1;33m\u001b[0m\u001b[0m\n\u001b[0;32m     11\u001b[0m \u001b[0ms\u001b[0m\u001b[1;33m=\u001b[0m\u001b[1;36m0\u001b[0m\u001b[1;33m\u001b[0m\u001b[1;33m\u001b[0m\u001b[0m\n\u001b[1;32m---> 12\u001b[1;33m \u001b[1;32mif\u001b[0m\u001b[1;33m(\u001b[0m\u001b[0mstr\u001b[0m\u001b[1;33m(\u001b[0m\u001b[0mn\u001b[0m\u001b[1;33m)\u001b[0m\u001b[1;33m==\u001b[0m\u001b[0mstr\u001b[0m\u001b[1;33m(\u001b[0m\u001b[0mn\u001b[0m\u001b[1;33m)\u001b[0m\u001b[1;33m[\u001b[0m\u001b[1;33m:\u001b[0m\u001b[1;33m:\u001b[0m\u001b[1;33m-\u001b[0m\u001b[1;36m1\u001b[0m\u001b[1;33m]\u001b[0m\u001b[1;33m)\u001b[0m\u001b[1;33m:\u001b[0m\u001b[1;33m\u001b[0m\u001b[1;33m\u001b[0m\u001b[0m\n\u001b[0m\u001b[0;32m     13\u001b[0m     \u001b[0mprint\u001b[0m\u001b[1;33m(\u001b[0m\u001b[1;34m\"palindrome\"\u001b[0m\u001b[1;33m)\u001b[0m\u001b[1;33m\u001b[0m\u001b[1;33m\u001b[0m\u001b[0m\n\u001b[0;32m     14\u001b[0m \u001b[1;32melse\u001b[0m\u001b[1;33m:\u001b[0m\u001b[1;33m\u001b[0m\u001b[1;33m\u001b[0m\u001b[0m\n",
      "\u001b[1;31mTypeError\u001b[0m: 'str' object is not callable"
     ]
    }
   ],
   "source": []
  },
  {
   "cell_type": "code",
   "execution_count": 12,
   "metadata": {},
   "outputs": [
    {
     "name": "stdout",
     "output_type": "stream",
     "text": [
      "enter a string :((((()()()))))()\n",
      "8\n"
     ]
    }
   ],
   "source": [
    "s1=input(\"enter a string :\")\n",
    "count=0\n",
    "i=0\n",
    "while i<(len(s1)-1):\n",
    "    if(s1[i]=='('):\n",
    "        count+=1\n",
    "    i+=1\n",
    "print(count)"
   ]
  },
  {
   "cell_type": "code",
   "execution_count": 27,
   "metadata": {},
   "outputs": [
    {
     "name": "stdout",
     "output_type": "stream",
     "text": [
      "enter stringabbaaccbbaaa\n",
      "no: of pairs of a: 2\n"
     ]
    }
   ],
   "source": [
    "s=input(\"enter string\")\n",
    "s=s.lower()\n",
    "count=0\n",
    "i=0\n",
    "while i<(len(s)-1):\n",
    "    if(s[i]=='a'):\n",
    "        if(s[i+1]=='a'):\n",
    "            count += 1\n",
    "            i+=1\n",
    "    i+=1\n",
    "print(\"no: of pairs of a:\",count)"
   ]
  },
  {
   "cell_type": "code",
   "execution_count": 29,
   "metadata": {},
   "outputs": [
    {
     "name": "stdout",
     "output_type": "stream",
     "text": [
      "enter string:123\n",
      "6\n"
     ]
    }
   ],
   "source": [
    "#Accept input as a string and display sum of digits as the output \n",
    "#input:Appli123cation456 \n",
    "#Output: 21\n",
    "s=input(\"enter string:\")\n",
    "sum=0\n",
    "for i in range(0,len(s)):\n",
    "    if(s[i]>='0' and s[i]<='9'):\n",
    "        sum += int(s[i])\n",
    "    else:\n",
    "        continue\n",
    "print(sum)"
   ]
  },
  {
   "cell_type": "code",
   "execution_count": 1,
   "metadata": {},
   "outputs": [
    {
     "name": "stdout",
     "output_type": "stream",
     "text": [
      "num126\n",
      "num215\n",
      "num319\n",
      "19\n"
     ]
    }
   ],
   "source": [
    "#Write a Python program to find the median of three values.\n",
    "a = int(input(\"num1\"))\n",
    "b = int(input(\"num2\"))\n",
    "c = int(input(\"num3\"))\n",
    "\n",
    "if b < a and a < c:\n",
    "    print(a)\n",
    "elif c < a and a < b:\n",
    "    print(a)\n",
    "    \n",
    "elif c < b and b < a:\n",
    "    print(b)\n",
    "elif a < b and b < c:\n",
    "    print(b)\n",
    "    \n",
    "elif b < c and c < a:\n",
    "    print(c)    \n",
    "elif a < c and c < b:\n",
    "    print(c)"
   ]
  },
  {
   "cell_type": "code",
   "execution_count": 2,
   "metadata": {},
   "outputs": [
    {
     "name": "stdout",
     "output_type": "stream",
     "text": [
      "Enter the string :abc12@\n",
      "vowels 1\n",
      "Consonants: 2\n",
      "Symbols : 3\n"
     ]
    }
   ],
   "source": [
    "str = input(\"Enter the string :\")\n",
    "vowels = 0\n",
    "consonants = 0\n",
    "symbols = 0\n",
    "str = str.lower()\n",
    "for i in range(0, len(str)):\n",
    "    if(str[i] == 'a'or str[i] == 'e' or str[i] == 'i'\n",
    "       or str[i] == 'o' or str[i] == 'u'):\n",
    "        vowels = vowels + 1\n",
    "    elif ((str[i] >= 'a'and str[i] <= 'z')):\n",
    "            consonants = consonants + 1\n",
    "    else:\n",
    "         symbols = symbols + 1\n",
    "print(\"vowels\" , vowels)\n",
    "print(\"Consonants:\", consonants)\n",
    "print(\"Symbols :\", symbols)\n"
   ]
  },
  {
   "cell_type": "code",
   "execution_count": 3,
   "metadata": {},
   "outputs": [
    {
     "name": "stdout",
     "output_type": "stream",
     "text": [
      "fizzbuzz\n",
      "1\n",
      "2\n",
      "fizz\n",
      "4\n",
      "buzz\n"
     ]
    }
   ],
   "source": [
    "#Write a Python program which iterates the integers from 1 to 50. For multiples of three print \"Fizz\" instead of the number and for the multiples of five print \"Buzz\". For numbers which are multiples of both three and five print \"FizzBuzz\".\n",
    "\n",
    "for fizzbuzz in range(6):\n",
    "    if fizzbuzz % 3 == 0 and fizzbuzz % 5 == 0:\n",
    "        print(\"fizzbuzz\")\n",
    "        continue\n",
    "    elif fizzbuzz % 3 == 0:\n",
    "        print(\"fizz\")\n",
    "        continue\n",
    "    elif fizzbuzz % 5 == 0:\n",
    "        print(\"buzz\")\n",
    "        continue\n",
    "    print(fizzbuzz)"
   ]
  },
  {
   "cell_type": "code",
   "execution_count": 5,
   "metadata": {},
   "outputs": [
    {
     "name": "stdout",
     "output_type": "stream",
     "text": [
      " 0.85\n",
      "B\n"
     ]
    }
   ],
   "source": [
    "#Write a program to prompt for a score between 0.0 and 1.0. If the score is out of range, print an error. If the score is between 0.0 and 1.0, print a grade using the following table:\n",
    "\n",
    "score = float(input(\" \"))\n",
    "if score>1.0 or score<0.0 :\n",
    "    print(\"error\")\n",
    "elif score>=0.9 :\n",
    "    print ('A')\n",
    "elif score>=0.8 :\n",
    "    print( 'B')\n",
    "elif score>=0.7 :\n",
    "    print( 'C')\n",
    "elif score>=0.6 :\n",
    "    print( 'D')\n",
    "else :\n",
    "    print( 'F')"
   ]
  },
  {
   "cell_type": "code",
   "execution_count": 11,
   "metadata": {},
   "outputs": [
    {
     "name": "stdout",
     "output_type": "stream",
     "text": [
      "enter a number121\n"
     ]
    },
    {
     "ename": "TypeError",
     "evalue": "'str' object is not callable",
     "output_type": "error",
     "traceback": [
      "\u001b[1;31m---------------------------------------------------------------------------\u001b[0m",
      "\u001b[1;31mTypeError\u001b[0m                                 Traceback (most recent call last)",
      "\u001b[1;32m<ipython-input-11-9c5d06ff1d5e>\u001b[0m in \u001b[0;36m<module>\u001b[1;34m\u001b[0m\n\u001b[0;32m     10\u001b[0m \u001b[0mrev\u001b[0m\u001b[1;33m=\u001b[0m\u001b[1;36m0\u001b[0m\u001b[1;33m\u001b[0m\u001b[1;33m\u001b[0m\u001b[0m\n\u001b[0;32m     11\u001b[0m \u001b[0ms\u001b[0m\u001b[1;33m=\u001b[0m\u001b[1;36m0\u001b[0m\u001b[1;33m\u001b[0m\u001b[1;33m\u001b[0m\u001b[0m\n\u001b[1;32m---> 12\u001b[1;33m \u001b[1;32mif\u001b[0m\u001b[1;33m(\u001b[0m\u001b[0mstr\u001b[0m\u001b[1;33m(\u001b[0m\u001b[0mn\u001b[0m\u001b[1;33m)\u001b[0m\u001b[1;33m==\u001b[0m\u001b[0mstr\u001b[0m\u001b[1;33m(\u001b[0m\u001b[0mn\u001b[0m\u001b[1;33m)\u001b[0m\u001b[1;33m[\u001b[0m\u001b[1;33m:\u001b[0m\u001b[1;33m:\u001b[0m\u001b[1;33m-\u001b[0m\u001b[1;36m1\u001b[0m\u001b[1;33m]\u001b[0m\u001b[1;33m)\u001b[0m\u001b[1;33m:\u001b[0m\u001b[1;33m\u001b[0m\u001b[1;33m\u001b[0m\u001b[0m\n\u001b[0m\u001b[0;32m     13\u001b[0m     \u001b[0mprint\u001b[0m\u001b[1;33m(\u001b[0m\u001b[1;34m\"palindrome\"\u001b[0m\u001b[1;33m)\u001b[0m\u001b[1;33m\u001b[0m\u001b[1;33m\u001b[0m\u001b[0m\n\u001b[0;32m     14\u001b[0m \u001b[1;32melse\u001b[0m\u001b[1;33m:\u001b[0m\u001b[1;33m\u001b[0m\u001b[1;33m\u001b[0m\u001b[0m\n",
      "\u001b[1;31mTypeError\u001b[0m: 'str' object is not callable"
     ]
    }
   ],
   "source": [
    "''' Accept a number as an input and check whether the given number is palindrome or not\n",
    "if it is a palindrome number print the number on the screen\n",
    "if it is not a palindrome number reverse that number and add it to previous number \n",
    "repeat this until will get a palindrome number and print that palindrome number on the screen\n",
    "input: 127\n",
    "output: 848\n",
    "'''\n",
    "n=int(input(\"enter a number\"))\n",
    "r=0\n",
    "rev=0\n",
    "s=0\n",
    "if(str(n)==str(n)[::-1]):\n",
    "    print(\"palindrome\")\n",
    "else:\n",
    "    rev=int(str(n)[::-1])\n",
    "    s = n+rev\n",
    "    print(s)"
   ]
  },
  {
   "cell_type": "code",
   "execution_count": null,
   "metadata": {},
   "outputs": [],
   "source": []
  }
 ],
 "metadata": {
  "kernelspec": {
   "display_name": "Python 3",
   "language": "python",
   "name": "python3"
  },
  "language_info": {
   "codemirror_mode": {
    "name": "ipython",
    "version": 3
   },
   "file_extension": ".py",
   "mimetype": "text/x-python",
   "name": "python",
   "nbconvert_exporter": "python",
   "pygments_lexer": "ipython3",
   "version": "3.7.4"
  }
 },
 "nbformat": 4,
 "nbformat_minor": 2
}
